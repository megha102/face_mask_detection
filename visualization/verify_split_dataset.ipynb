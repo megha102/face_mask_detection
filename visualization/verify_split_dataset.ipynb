{
 "cells": [
  {
   "cell_type": "code",
   "execution_count": 1,
   "metadata": {},
   "outputs": [],
   "source": [
    "import os\n",
    "import cv2\n",
    "import random"
   ]
  },
  {
   "cell_type": "code",
   "execution_count": 2,
   "metadata": {},
   "outputs": [],
   "source": [
    "split_dir = \"../data/dataset_split\"\n",
    "output_dir = \"../visualization/verify_split_dataset\"\n",
    "\n",
    "os.makedirs(output_dir, exist_ok=True)"
   ]
  },
  {
   "cell_type": "code",
   "execution_count": 3,
   "metadata": {},
   "outputs": [],
   "source": [
    "class_names = [\"with_mask\", \"without_mask\", \"incorrect_mask\"]"
   ]
  },
  {
   "cell_type": "code",
   "execution_count": 4,
   "metadata": {},
   "outputs": [],
   "source": [
    "def visualize_image(image_path, label_path, output_dir):\n",
    "    image = cv2.imread(image_path)\n",
    "    height, width, _ = image.shape\n",
    "\n",
    "    #bounding boxes\n",
    "    with open(label_path, 'r') as f:\n",
    "        for line in f:\n",
    "            class_id, x_center, y_center, box_width, box_height = map(float, line.strip().split())\n",
    "            class_id = int(class_id)\n",
    "\n",
    "            x_center *= width\n",
    "            y_center *= height\n",
    "            box_width *= width\n",
    "            box_height *= height\n",
    "\n",
    "            x1 = int(x_center - box_width / 2)\n",
    "            y1 = int(y_center - box_height / 2)  \n",
    "            x2 = int(x_center + box_width / 2)\n",
    "            y2 = int(y_center + box_height / 2) \n",
    "\n",
    "\n",
    "            cv2.rectangle(image, (x1,y1), (x2,y2), (0,255,0),2)\n",
    "            cv2.putText(image, class_names[class_id], (x1,y1-10), cv2.FONT_HERSHEY_SIMPLEX, 0.5, (0,255,0), 2)\n",
    "\n",
    "    \n",
    "    output_path = os.path.join(output_dir, os.path.basename(image_path))\n",
    "    cv2.imwrite(output_path,image)\n"
   ]
  },
  {
   "cell_type": "code",
   "execution_count": 5,
   "metadata": {},
   "outputs": [],
   "source": [
    "def visualize_split(split_name):\n",
    "    image_dir = os.path.join(split_dir, split_name, \"images\")\n",
    "    label_dir = os.path.join(split_dir, split_name, \"labels\")\n",
    "\n",
    "    split_output_dir = os.path.join(output_dir, split_name)\n",
    "    os.makedirs(split_output_dir, exist_ok=True)\n",
    "\n",
    "    images = [img for img in os.listdir(image_dir) if img.endswith('.png')]\n",
    "\n",
    "    for image_name in random.sample(images,5):\n",
    "        image_path = os.path.join(image_dir, image_name)\n",
    "        label_path = os.path.join(label_dir, image_name.replace(\".png\",\".txt\"))\n",
    "        visualize_image(image_path, label_path, split_output_dir)\n"
   ]
  },
  {
   "cell_type": "code",
   "execution_count": 8,
   "metadata": {},
   "outputs": [
    {
     "name": "stdout",
     "output_type": "stream",
     "text": [
      "Visualizing train split ...\n",
      "Visualizing val split ...\n",
      "Visualizing test split ...\n"
     ]
    }
   ],
   "source": [
    "for split_name in [\"train\", \"val\", \"test\"]:\n",
    "    print(f\"Visualizing {split_name} split ...\")\n",
    "    visualize_split(split_name)"
   ]
  },
  {
   "cell_type": "code",
   "execution_count": null,
   "metadata": {},
   "outputs": [],
   "source": []
  },
  {
   "cell_type": "code",
   "execution_count": null,
   "metadata": {},
   "outputs": [],
   "source": []
  }
 ],
 "metadata": {
  "kernelspec": {
   "display_name": "mask-detection-env",
   "language": "python",
   "name": "python3"
  },
  "language_info": {
   "codemirror_mode": {
    "name": "ipython",
    "version": 3
   },
   "file_extension": ".py",
   "mimetype": "text/x-python",
   "name": "python",
   "nbconvert_exporter": "python",
   "pygments_lexer": "ipython3",
   "version": "3.9.20"
  }
 },
 "nbformat": 4,
 "nbformat_minor": 2
}
